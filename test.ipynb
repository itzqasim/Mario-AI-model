{
 "cells": [
  {
   "cell_type": "code",
   "execution_count": 4,
   "metadata": {},
   "outputs": [],
   "source": [
    "import gym_super_mario_bros\n",
    "import gym\n",
    "# Import the Joypad wrapper\n",
    "from nes_py.wrappers import JoypadSpace\n",
    "# Import the SIMPLIFIED controls\n",
    "from gym_super_mario_bros.actions import SIMPLE_MOVEMENT\n",
    "from gym.wrappers import GrayScaleObservation\n",
    "# Import Vectorization Wrappers\n",
    "from stable_baselines3.common.vec_env import VecFrameStack, DummyVecEnv\n",
    "# Import Matplotlib to show the impact of frame stacking\n",
    "from matplotlib import pyplot as plt\n",
    "# Import os for file path management\n",
    "import os \n",
    "# Import PPO for algos\n",
    "from stable_baselines3 import PPO\n",
    "# Import Base Callback for saving models\n",
    "from stable_baselines3.common.callbacks import BaseCallback\n"
   ]
  },
  {
   "cell_type": "code",
   "execution_count": null,
   "metadata": {},
   "outputs": [],
   "source": [
    "\n",
    "model_name = 'BestModels/best_model_1000000.zip'\n",
    "model = PPO.load(model_name)\n",
    "env = gym_super_mario_bros.make('SuperMarioBros-v0')\n",
    "env = JoypadSpace(env, SIMPLE_MOVEMENT)\n",
    "env = GrayScaleObservation(env, keep_dim=True)\n",
    "env = DummyVecEnv([lambda: env])\n",
    "env = VecFrameStack(env, 4, channels_order='last')\n",
    "env1 = gym_super_mario_bros.make('SuperMarioBros-v0')\n",
    "env1 = JoypadSpace(env1, SIMPLE_MOVEMENT)\n",
    "temp = env1.reset()\n",
    "state = env.reset()\n",
    "\n",
    "no_of_tests = 3\n",
    "total_reward = 0\n",
    "for test_no in range(no_of_tests):\n",
    "    r = 0\n",
    "    while True: \n",
    "        action, _ = model.predict(state)\n",
    "        state, reward, done, info = env.step(action)\n",
    "        r = max(reward, r)\n",
    "        if done:\n",
    "            break\n",
    "        env1.step(action[0])\n",
    "        env1.render()\n",
    "    env.reset()\n",
    "    env1.reset()    \n",
    "    \n",
    "    total_reward += r\n",
    "print(model_name, end=\": \")\n",
    "print(reward/no_of_tests)\n",
    "\n",
    "env.close()\n",
    "env1.close()"
   ]
  }
 ],
 "metadata": {
  "kernelspec": {
   "display_name": "Python 3",
   "language": "python",
   "name": "python3"
  },
  "language_info": {
   "codemirror_mode": {
    "name": "ipython",
    "version": 3
   },
   "file_extension": ".py",
   "mimetype": "text/x-python",
   "name": "python",
   "nbconvert_exporter": "python",
   "pygments_lexer": "ipython3",
   "version": "3.10.6"
  }
 },
 "nbformat": 4,
 "nbformat_minor": 2
}
